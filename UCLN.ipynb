{
 "cells": [
  {
   "cell_type": "code",
   "execution_count": 2,
   "metadata": {},
   "outputs": [],
   "source": [
    "import timeit"
   ]
  },
  {
   "cell_type": "code",
   "execution_count": 1,
   "metadata": {},
   "outputs": [],
   "source": [
    "#Thuật toán Euclid\n",
    "def gcd_euclid(m, n):\n",
    "    while n != 0:\n",
    "        m, n = n, m % n\n",
    "    return m\n",
    "\n",
    "#Phân tích nguyên tố\n",
    "def prime_factors(m, n):\n",
    "    while n != 0:\n",
    "        m, n = n, m % n\n",
    "    return m\n",
    "\n",
    "#Thuật toán nhị phân\n",
    "def gcd_binary(m, n):\n",
    "    while n != 0:\n",
    "        m, n = n, m % n\n",
    "    return m"
   ]
  },
  {
   "cell_type": "code",
   "execution_count": 3,
   "metadata": {},
   "outputs": [
    {
     "name": "stdout",
     "output_type": "stream",
     "text": [
      "Thời gian thực thi của thuật toán Euclid: 0.017579300001671072\n",
      "Thời gian thực thi của thuật toán phân tích nguyên tố: 0.02512429999478627\n",
      "Thời gian thực thi của thuật toán nhị phân: 0.02144860000407789\n"
     ]
    }
   ],
   "source": [
    "m = 462\n",
    "n = 1071\n",
    "\n",
    "execution_time_euclid = timeit.timeit(lambda: gcd_euclid(m, n), number=10000)\n",
    "print(\"Thời gian thực thi của thuật toán Euclid:\", execution_time_euclid)\n",
    "\n",
    "execution_time_prime_factors = timeit.timeit(lambda: prime_factors(m, n), number=10000)\n",
    "print(\"Thời gian thực thi của thuật toán phân tích nguyên tố:\", execution_time_prime_factors)\n",
    "\n",
    "execution_time_binary = timeit.timeit(lambda: gcd_binary(m, n), number=10000)\n",
    "print(\"Thời gian thực thi của thuật toán nhị phân:\", execution_time_binary)"
   ]
  }
 ],
 "metadata": {
  "kernelspec": {
   "display_name": "Python 3",
   "language": "python",
   "name": "python3"
  },
  "language_info": {
   "codemirror_mode": {
    "name": "ipython",
    "version": 3
   },
   "file_extension": ".py",
   "mimetype": "text/x-python",
   "name": "python",
   "nbconvert_exporter": "python",
   "pygments_lexer": "ipython3",
   "version": "3.10.4"
  }
 },
 "nbformat": 4,
 "nbformat_minor": 2
}
